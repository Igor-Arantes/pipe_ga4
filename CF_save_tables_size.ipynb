{
  "nbformat": 4,
  "nbformat_minor": 0,
  "metadata": {
    "colab": {
      "provenance": [],
      "authorship_tag": "ABX9TyNS6u5Vmp7/GuaWk0xF8CyC"
    },
    "kernelspec": {
      "name": "python3",
      "display_name": "Python 3"
    },
    "language_info": {
      "name": "python"
    }
  },
  "cells": [
    {
      "cell_type": "code",
      "execution_count": 16,
      "metadata": {
        "id": "oxEjtZKSI4Si"
      },
      "outputs": [],
      "source": [
        "from google.cloud import bigquery\n",
        "import pandas as pd\n",
        "from datetime import datetime as dt\n",
        "from datetime import timedelta"
      ]
    },
    {
      "cell_type": "code",
      "source": [
        "from google.colab import auth\n",
        "auth.authenticate_user()\n",
        "client = bigquery.Client(project='digital-analytics-289714')"
      ],
      "metadata": {
        "id": "wIYyk0hDO3NU"
      },
      "execution_count": 2,
      "outputs": []
    },
    {
      "cell_type": "code",
      "source": [
        "def get_table_size(dataset, table_sufix):\n",
        "  query = f'''SELECT * FROM `digital-analytics-289714.analytics_{dataset}.__TABLES__`\n",
        "WHERE table_id='events_{table_sufix}' '''\n",
        "  print(query)\n",
        "  return client.query(query).to_dataframe()"
      ],
      "metadata": {
        "id": "vhSt0jZgO9ur"
      },
      "execution_count": 3,
      "outputs": []
    },
    {
      "cell_type": "code",
      "source": [
        "from google.cloud.bigquery.job.query import QueryJob\n",
        "def write_table_size(date, dataset, size):\n",
        "  if dataset == '181029766':\n",
        "    BU = 'CB'\n",
        "  if dataset == '184671548':\n",
        "    BU = 'PO'\n",
        "  if dataset == '277318370':\n",
        "    BU = 'EX'\n",
        "  query = f''' INSERT `digital-analytics-289714.ingestao_ga4.size_by_date`(date, dataset, BU, first_size) \n",
        "  VALUES('{date}','{dataset}','{BU}',{size})'''\n",
        "  print(query)\n",
        "  return client.query(query)\n",
        "\n",
        "\n"
      ],
      "metadata": {
        "id": "qM63nVioaV5X"
      },
      "execution_count": 66,
      "outputs": []
    },
    {
      "cell_type": "code",
      "source": [
        "def main():\n",
        "  today = dt.today()\n",
        "  yesterday = (today - timedelta(days=1)).strftime('%Y%m%d')\n",
        "  datasets = [ '181029766','184671548','277318370']\n",
        "  for dataset in datasets:\n",
        "    table_info = get_table_size(dataset, yesterday)\n",
        "    size = table_info['row_count'][0]\n",
        "    write_table_size(yesterday, dataset, size)\n",
        "    print(size)\n",
        "\n",
        "\n"
      ],
      "metadata": {
        "id": "ixlUHQ50K1gy"
      },
      "execution_count": 63,
      "outputs": []
    },
    {
      "cell_type": "code",
      "source": [
        "main()"
      ],
      "metadata": {
        "colab": {
          "base_uri": "https://localhost:8080/"
        },
        "id": "rRSyf8PxPSos",
        "outputId": "df7446d4-305c-4429-8145-dc6a8277693d"
      },
      "execution_count": 67,
      "outputs": [
        {
          "output_type": "stream",
          "name": "stdout",
          "text": [
            "SELECT * FROM `digital-analytics-289714.analytics_181029766.__TABLES__`\n",
            "WHERE table_id='events_20230514' \n",
            " INSERT `digital-analytics-289714.ingestao_ga4.size_by_date`(date, dataset, BU, first_size) \n",
            "  VALUES('20230514','181029766','CB',198570799)\n",
            "198570799\n",
            "SELECT * FROM `digital-analytics-289714.analytics_184671548.__TABLES__`\n",
            "WHERE table_id='events_20230514' \n",
            " INSERT `digital-analytics-289714.ingestao_ga4.size_by_date`(date, dataset, BU, first_size) \n",
            "  VALUES('20230514','184671548','PO',16089648)\n",
            "16089648\n",
            "SELECT * FROM `digital-analytics-289714.analytics_277318370.__TABLES__`\n",
            "WHERE table_id='events_20230514' \n",
            " INSERT `digital-analytics-289714.ingestao_ga4.size_by_date`(date, dataset, BU, first_size) \n",
            "  VALUES('20230514','277318370','EX',7311648)\n",
            "7311648\n"
          ]
        }
      ]
    },
    {
      "cell_type": "code",
      "source": [],
      "metadata": {
        "id": "aFFl1E0haQUS"
      },
      "execution_count": null,
      "outputs": []
    }
  ]
}