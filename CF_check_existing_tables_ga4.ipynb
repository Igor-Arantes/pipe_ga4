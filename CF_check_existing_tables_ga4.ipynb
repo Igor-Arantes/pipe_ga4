{
  "nbformat": 4,
  "nbformat_minor": 0,
  "metadata": {
    "colab": {
      "provenance": [],
      "authorship_tag": "ABX9TyNtsBDT/qO4Icpehu0uHwHt"
    },
    "kernelspec": {
      "name": "python3",
      "display_name": "Python 3"
    },
    "language_info": {
      "name": "python"
    }
  },
  "cells": [
    {
      "cell_type": "code",
      "execution_count": 29,
      "metadata": {
        "id": "zZfDeJCGTgV0"
      },
      "outputs": [],
      "source": [
        "from google.cloud import bigquery\n",
        "from datetime import datetime as dt\n",
        "from datetime import timedelta\n",
        "from google.colab import auth\n",
        "\n",
        "auth.authenticate_user()\n",
        "client = bigquery.Client(project='digital-analytics-289714')"
      ]
    },
    {
      "cell_type": "code",
      "source": [
        "def if_tbl_exists(client, table_ref):\n",
        "    from google.cloud.exceptions import NotFound\n",
        "    try:\n",
        "        client.get_table(table_ref)\n",
        "        return True\n",
        "    except NotFound:\n",
        "        return False\n",
        "\n"
      ],
      "metadata": {
        "id": "oHD45xdbUVGW"
      },
      "execution_count": 30,
      "outputs": []
    },
    {
      "cell_type": "code",
      "source": [
        "def main():\n",
        "  today = dt.today()\n",
        "  date = (today - timedelta(days=1)).strftime('%Y%m%d')\n",
        "  datasets = [ 'analytics_181029766','analytics_184671548','analytics_277318370']\n",
        "  existing_tables = []\n",
        "  for dataset in datasets:\n",
        "    dataset = client.dataset(dataset)\n",
        "    table_nm = f'events_{date}'\n",
        "    table_ref = dataset.table(table_nm)\n",
        "    existing_tables.append(if_tbl_exists(client, table_ref))\n",
        "\n",
        "  if False in existing_tables:\n",
        "    return(False)\n",
        "  else:\n",
        "    return(True)"
      ],
      "metadata": {
        "id": "lmQNJw4BWpvj"
      },
      "execution_count": 34,
      "outputs": []
    },
    {
      "cell_type": "code",
      "source": [
        "main()"
      ],
      "metadata": {
        "colab": {
          "base_uri": "https://localhost:8080/"
        },
        "id": "n4cwiKUqUde2",
        "outputId": "72b18af8-0800-4aad-95e8-9c1214cf8db4"
      },
      "execution_count": 33,
      "outputs": [
        {
          "output_type": "execute_result",
          "data": {
            "text/plain": [
              "True"
            ]
          },
          "metadata": {},
          "execution_count": 33
        }
      ]
    },
    {
      "cell_type": "code",
      "source": [],
      "metadata": {
        "colab": {
          "base_uri": "https://localhost:8080/"
        },
        "id": "zTs9BELRX5ek",
        "outputId": "7a5b0033-c753-48fb-8295-54cfb0411f74"
      },
      "execution_count": 27,
      "outputs": [
        {
          "output_type": "stream",
          "name": "stdout",
          "text": [
            "exist\n"
          ]
        }
      ]
    },
    {
      "cell_type": "code",
      "source": [],
      "metadata": {
        "colab": {
          "base_uri": "https://localhost:8080/"
        },
        "id": "zBGLVwsdYLMk",
        "outputId": "a189468a-3869-4dd6-fe99-45a79cb9169e"
      },
      "execution_count": 20,
      "outputs": [
        {
          "output_type": "execute_result",
          "data": {
            "text/plain": [
              "TableReference(DatasetReference('digital-analytics-289714', '277318370'), 'events_20230521')"
            ]
          },
          "metadata": {},
          "execution_count": 20
        }
      ]
    },
    {
      "cell_type": "code",
      "source": [],
      "metadata": {
        "id": "oSbDrKVKYcVP"
      },
      "execution_count": null,
      "outputs": []
    }
  ]
}