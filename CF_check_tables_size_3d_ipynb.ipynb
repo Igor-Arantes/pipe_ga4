{
  "nbformat": 4,
  "nbformat_minor": 0,
  "metadata": {
    "colab": {
      "provenance": [],
      "authorship_tag": "ABX9TyOHBgDxSSnWlPdbfcWnGxxZ"
    },
    "kernelspec": {
      "name": "python3",
      "display_name": "Python 3"
    },
    "language_info": {
      "name": "python"
    }
  },
  "cells": [
    {
      "cell_type": "code",
      "execution_count": 1,
      "metadata": {
        "id": "CDV8uawpLsnP"
      },
      "outputs": [],
      "source": [
        "from google.cloud import bigquery\n",
        "import pandas as pd\n",
        "from datetime import datetime as dt\n",
        "from datetime import timedelta"
      ]
    },
    {
      "cell_type": "code",
      "source": [
        "from google.colab import auth\n",
        "auth.authenticate_user()\n",
        "client = bigquery.Client(project='digital-analytics-289714')"
      ],
      "metadata": {
        "id": "ZWqy66USLyAH"
      },
      "execution_count": 2,
      "outputs": []
    },
    {
      "cell_type": "code",
      "source": [
        "def get_table_size(dataset, table_sufix):\n",
        "  query = f'''SELECT * FROM `digital-analytics-289714.analytics_{dataset}.__TABLES__`\n",
        "WHERE table_id='events_{table_sufix}' '''\n",
        "  print(query)\n",
        "  return client.query(query).to_dataframe()"
      ],
      "metadata": {
        "id": "6noL6koWL2qc"
      },
      "execution_count": 3,
      "outputs": []
    },
    {
      "cell_type": "code",
      "source": [
        "def write_table_size(date, dataset, size):\n",
        "\n",
        "  query = f''' UPDATE `digital-analytics-289714.ingestao_ga4.size_by_date`  \n",
        "  set size_d3 = {size} \n",
        "  where date = '{date}' AND dataset = '{dataset}' '''\n",
        "  print(query)\n",
        "  return client.query(query)"
      ],
      "metadata": {
        "id": "jiav_pG5L3Sv"
      },
      "execution_count": 4,
      "outputs": []
    },
    {
      "cell_type": "code",
      "source": [
        "def check_size_mod(date, dataset):\n",
        "    query = f'''SELECT * FROM `digital-analytics-289714.ingestao_ga4.size_by_date`\n",
        "WHERE date = '{date}' AND dataset = '{dataset}' '''\n",
        "    row = client.query(query).to_dataframe()\n",
        "\n",
        "    if int(row['size_d3']) > int(row['first_size']):\n",
        "        query = f''' UPDATE `digital-analytics-289714.ingestao_ga4.size_by_date`  \n",
        "  set bigger = 'YES'\n",
        "  where date = '{date}' AND dataset = '{dataset}' '''\n",
        "        client.query(query)\n",
        "    else:\n",
        "        query = f''' UPDATE `digital-analytics-289714.ingestao_ga4.size_by_date`  \n",
        "  set bigger = 'NO'\n",
        "  where date = '{date}' AND dataset = '{dataset}' '''\n",
        "        client.query(query)"
      ],
      "metadata": {
        "id": "BDa5Q3V5OnSY"
      },
      "execution_count": 12,
      "outputs": []
    },
    {
      "cell_type": "code",
      "source": [
        "  def main():\n",
        "    today = dt.today()\n",
        "    day3 = (today - timedelta(days=3)).strftime('%Y%m%d')\n",
        "    datasets = [ '181029766','184671548','277318370']\n",
        "    for dataset in datasets:\n",
        "      info_table_df = get_table_size(dataset, day3)\n",
        "      size_d3 = info_table_df['row_count'][0]\n",
        "      print(size_d3)\n",
        "      \n",
        "      "
      ],
      "metadata": {
        "id": "Lfd5w-x7qc4h"
      },
      "execution_count": 20,
      "outputs": []
    },
    {
      "cell_type": "code",
      "source": [
        "main()"
      ],
      "metadata": {
        "colab": {
          "base_uri": "https://localhost:8080/"
        },
        "id": "bk7XhV6Y1WFJ",
        "outputId": "87ba3e1a-04c0-4488-8b50-416f173082dc"
      },
      "execution_count": 21,
      "outputs": [
        {
          "output_type": "stream",
          "name": "stdout",
          "text": [
            "SELECT * FROM `digital-analytics-289714.analytics_181029766.__TABLES__`\n",
            "WHERE table_id='events_20230513' \n",
            "264791451\n",
            "SELECT * FROM `digital-analytics-289714.analytics_184671548.__TABLES__`\n",
            "WHERE table_id='events_20230513' \n",
            "19062564\n",
            "SELECT * FROM `digital-analytics-289714.analytics_277318370.__TABLES__`\n",
            "WHERE table_id='events_20230513' \n",
            "8569448\n"
          ]
        }
      ]
    },
    {
      "cell_type": "code",
      "source": [],
      "metadata": {
        "id": "HzdM96VG4YXK"
      },
      "execution_count": null,
      "outputs": []
    }
  ]
}